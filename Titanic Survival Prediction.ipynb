{
 "cells": [
  {
   "cell_type": "code",
   "execution_count": 32,
   "id": "11f3bdb1-16fc-489e-8d18-bc93d8886d99",
   "metadata": {},
   "outputs": [],
   "source": [
    "import pandas as pd\n",
    "import numpy as np\n",
    "from sklearn.model_selection import train_test_split\n",
    "from sklearn.ensemble import RandomForestClassifier\n",
    "from sklearn.metrics import accuracy_score\n"
   ]
  },
  {
   "cell_type": "code",
   "execution_count": 33,
   "id": "79e8e8d7-f988-4e30-8dcc-d924bfbac43f",
   "metadata": {},
   "outputs": [
    {
     "name": "stdout",
     "output_type": "stream",
     "text": [
      "Dataset loaded successfully!\n",
      "Shape: (891, 12)\n",
      "   PassengerId  Survived  Pclass  \\\n",
      "0            1         0       3   \n",
      "1            2         1       1   \n",
      "2            3         1       3   \n",
      "3            4         1       1   \n",
      "4            5         0       3   \n",
      "\n",
      "                                                Name     Sex   Age  SibSp  \\\n",
      "0                            Braund, Mr. Owen Harris    male  22.0      1   \n",
      "1  Cumings, Mrs. John Bradley (Florence Briggs Th...  female  38.0      1   \n",
      "2                             Heikkinen, Miss. Laina  female  26.0      0   \n",
      "3       Futrelle, Mrs. Jacques Heath (Lily May Peel)  female  35.0      1   \n",
      "4                           Allen, Mr. William Henry    male  35.0      0   \n",
      "\n",
      "   Parch            Ticket     Fare Cabin Embarked  \n",
      "0      0         A/5 21171   7.2500   NaN        S  \n",
      "1      0          PC 17599  71.2833   C85        C  \n",
      "2      0  STON/O2. 3101282   7.9250   NaN        S  \n",
      "3      0            113803  53.1000  C123        S  \n",
      "4      0            373450   8.0500   NaN        S  \n"
     ]
    }
   ],
   "source": [
    "# Load Titanic dataset directly from URL (no CSV needed)\n",
    "url = \"https://raw.githubusercontent.com/datasciencedojo/datasets/master/titanic.csv\"\n",
    "df = pd.read_csv(url)\n",
    "\n",
    "print(\"Dataset loaded successfully!\")\n",
    "print(\"Shape:\", df.shape)\n",
    "print(df.head(5))\n"
   ]
  },
  {
   "cell_type": "code",
   "execution_count": 41,
   "id": "0769e087-cff9-4e7b-8bff-93b517231f63",
   "metadata": {},
   "outputs": [
    {
     "name": "stdout",
     "output_type": "stream",
     "text": [
      "Missing values after preprocessing:\n",
      "PassengerId            0\n",
      "Survived               0\n",
      "Pclass                 0\n",
      "Name                   0\n",
      "Sex                  891\n",
      "Age                    0\n",
      "SibSp                  0\n",
      "Parch                  0\n",
      "Ticket                 0\n",
      "Fare                   0\n",
      "Cabin                687\n",
      "Embarked               0\n",
      "PredictedSurvived      0\n",
      "dtype: int64\n",
      "   PassengerId  Survived  Pclass  \\\n",
      "0            1         0       3   \n",
      "1            2         1       1   \n",
      "2            3         1       3   \n",
      "3            4         1       1   \n",
      "4            5         0       3   \n",
      "\n",
      "                                                Name  Sex   Age  SibSp  Parch  \\\n",
      "0                            Braund, Mr. Owen Harris  NaN  22.0      1      0   \n",
      "1  Cumings, Mrs. John Bradley (Florence Briggs Th...  NaN  38.0      1      0   \n",
      "2                             Heikkinen, Miss. Laina  NaN  26.0      0      0   \n",
      "3       Futrelle, Mrs. Jacques Heath (Lily May Peel)  NaN  35.0      1      0   \n",
      "4                           Allen, Mr. William Henry  NaN  35.0      0      0   \n",
      "\n",
      "             Ticket     Fare Cabin Embarked  PredictedSurvived  \n",
      "0         A/5 21171   7.2500   NaN        S                  0  \n",
      "1          PC 17599  71.2833   C85        C                  1  \n",
      "2  STON/O2. 3101282   7.9250   NaN        S                  1  \n",
      "3            113803  53.1000  C123        S                  1  \n",
      "4            373450   8.0500   NaN        S                  0  \n"
     ]
    }
   ],
   "source": [
    "# Map 'Sex' to numeric\n",
    "df['Sex'] = df['Sex'].map({'male': 0, 'female': 1})\n",
    "\n",
    "# Fill missing values (safe assignment, avoids FutureWarning)\n",
    "df['Embarked'] = df['Embarked'].fillna(df['Embarked'].mode()[0])\n",
    "df['Age'] = df['Age'].fillna(df['Age'].median())\n",
    "df['Fare'] = df['Fare'].fillna(df['Fare'].median())\n",
    "\n",
    "# Check missing values\n",
    "print(\"Missing values after preprocessing:\")\n",
    "print(df.isnull().sum())\n",
    "\n",
    "# Show sample data\n",
    "print(df.head())\n"
   ]
  },
  {
   "cell_type": "code",
   "execution_count": 35,
   "id": "e3530a37-4916-4327-a544-c9c4329ecd19",
   "metadata": {},
   "outputs": [
    {
     "name": "stdout",
     "output_type": "stream",
     "text": [
      "Features and target prepared!\n",
      "Feature sample:\n",
      "   Pclass  Sex   Age  SibSp  Parch     Fare  Embarked_Q  Embarked_S\n",
      "0       3    0  22.0      1      0   7.2500       False        True\n",
      "1       1    1  38.0      1      0  71.2833       False       False\n",
      "2       3    1  26.0      0      0   7.9250       False        True\n",
      "3       1    1  35.0      1      0  53.1000       False        True\n",
      "4       3    0  35.0      0      0   8.0500       False        True\n"
     ]
    }
   ],
   "source": [
    "target = 'Survived'\n",
    "features = ['Pclass', 'Sex', 'Age', 'SibSp', 'Parch', 'Fare', 'Embarked']\n",
    "\n",
    "X = df[features]\n",
    "y = df[target]\n",
    "\n",
    "# One-hot encode 'Embarked'\n",
    "X = pd.get_dummies(X, columns=['Embarked'], drop_first=True)\n",
    "\n",
    "print(\"Features and target prepared!\")\n",
    "print(\"Feature sample:\")\n",
    "print(X.head(5))\n"
   ]
  },
  {
   "cell_type": "code",
   "execution_count": 36,
   "id": "e832d273-7f0c-48e8-b56e-918f8940da2d",
   "metadata": {},
   "outputs": [
    {
     "name": "stdout",
     "output_type": "stream",
     "text": [
      "Train-Test split done!\n",
      "Training samples: 712\n",
      "Validation samples: 179\n"
     ]
    }
   ],
   "source": [
    "X_train, X_val, y_train, y_val = train_test_split(\n",
    "    X, y, test_size=0.2, random_state=42\n",
    ")\n",
    "\n",
    "print(\"Train-Test split done!\")\n",
    "print(\"Training samples:\", X_train.shape[0])\n",
    "print(\"Validation samples:\", X_val.shape[0])\n"
   ]
  },
  {
   "cell_type": "code",
   "execution_count": 37,
   "id": "b1f65730-4446-4c45-9590-95281f855569",
   "metadata": {},
   "outputs": [
    {
     "name": "stdout",
     "output_type": "stream",
     "text": [
      "Model trained successfully ✅\n"
     ]
    }
   ],
   "source": [
    "model = RandomForestClassifier(n_estimators=200, random_state=42)\n",
    "model.fit(X_train, y_train)\n",
    "\n",
    "print(\"Model trained successfully ✅\")\n"
   ]
  },
  {
   "cell_type": "code",
   "execution_count": 38,
   "id": "1630467c-55b2-4aba-8b4e-d59620aa7e35",
   "metadata": {},
   "outputs": [
    {
     "name": "stdout",
     "output_type": "stream",
     "text": [
      "Validation Accuracy: 81.01 %\n"
     ]
    }
   ],
   "source": [
    "val_preds = model.predict(X_val)\n",
    "accuracy = accuracy_score(y_val, val_preds)\n",
    "\n",
    "print(\"Validation Accuracy:\", round(accuracy*100, 2), \"%\")\n"
   ]
  },
  {
   "cell_type": "code",
   "execution_count": 39,
   "id": "139660b9-63fe-44c4-a324-4de40997ffe8",
   "metadata": {},
   "outputs": [
    {
     "name": "stdout",
     "output_type": "stream",
     "text": [
      "Predictions on full dataset added!\n",
      "   PassengerId  Survived  PredictedSurvived\n",
      "0            1         0                  0\n",
      "1            2         1                  1\n",
      "2            3         1                  1\n",
      "3            4         1                  1\n",
      "4            5         0                  0\n",
      "5            6         0                  0\n",
      "6            7         0                  0\n",
      "7            8         0                  0\n",
      "8            9         1                  1\n",
      "9           10         1                  1\n"
     ]
    }
   ],
   "source": [
    "full_preds = model.predict(X)\n",
    "df['PredictedSurvived'] = full_preds\n",
    "\n",
    "print(\"Predictions on full dataset added!\")\n",
    "print(df[['PassengerId', 'Survived', 'PredictedSurvived']].head(10))\n"
   ]
  },
  {
   "cell_type": "code",
   "execution_count": null,
   "id": "fd8c7de6-b020-4c1b-8018-07a139932626",
   "metadata": {},
   "outputs": [],
   "source": []
  }
 ],
 "metadata": {
  "kernelspec": {
   "display_name": "Python 3 (ipykernel)",
   "language": "python",
   "name": "python3"
  },
  "language_info": {
   "codemirror_mode": {
    "name": "ipython",
    "version": 3
   },
   "file_extension": ".py",
   "mimetype": "text/x-python",
   "name": "python",
   "nbconvert_exporter": "python",
   "pygments_lexer": "ipython3",
   "version": "3.12.4"
  }
 },
 "nbformat": 4,
 "nbformat_minor": 5
}
